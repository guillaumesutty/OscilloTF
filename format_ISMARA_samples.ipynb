{
 "cells": [
  {
   "cell_type": "code",
   "execution_count": 3,
   "id": "e9b02f23-4edc-4849-8421-9418c3f43eef",
   "metadata": {},
   "outputs": [],
   "source": [
    "import numpy as np\n",
    "import scanpy as sc\n",
    "import pandas as pd\n",
    "import os\n",
    "from collections import defaultdict"
   ]
  },
  {
   "cell_type": "code",
   "execution_count": 3,
   "id": "e41c285b-3a53-4aea-a170-a9ad72efbf9c",
   "metadata": {},
   "outputs": [
    {
     "name": "stderr",
     "output_type": "stream",
     "text": [
      "/shared/home/suttyg/.local/lib/python3.12/site-packages/anndata/_core/anndata.py:1758: UserWarning: Variable names are not unique. To make them unique, call `.var_names_make_unique`.\n",
      "  utils.warn_names_duplicates(\"var\")\n"
     ]
    }
   ],
   "source": [
    "# Load DeepCycle data\n",
    "adata = sc.read_h5ad(\"/shared/space2/molina/Data/mESCs_2iLIF/SRR13790993/deepcycle/deepcycle.h5ad\")\n",
    "\n",
    "# Extract 10x-style barcode (after last colon) and theta\n",
    "barcodes = adata.obs.index.str.extract(r':([ACGT]+)x')[0]\n",
    "theta_vals = adata.obs['cell_cycle_theta'].round(2).astype(str)\n",
    "\n",
    "# Build barcode-to-theta-bin map\n",
    "barcode_theta_map = pd.DataFrame({\n",
    "    'barcode': barcodes,\n",
    "    'theta_bin': theta_vals.values\n",
    "})\n",
    "barcode_theta_map.to_csv(\"barcode_theta_map.tsv\", sep='\\t', index=False)"
   ]
  },
  {
   "cell_type": "code",
   "execution_count": null,
   "id": "9e86df35-b403-423b-b1b2-a24a2718b1d0",
   "metadata": {},
   "outputs": [
    {
     "name": "stdout",
     "output_type": "stream",
     "text": [
      "Checking progress...\n",
      "Progress: 0% (0/0 success matches)\n",
      "Checking progress...\n",
      "Checking progress...\n",
      "Progress: 1% (10248037/12000000 success matches)\n",
      "Checking progress...\n",
      "Progress: 2% (15363078/18000000 success matches)\n",
      "Checking progress...\n",
      "Progress: 3% (20481812/24000000 success matches)\n",
      "Checking progress...\n",
      "Progress: 4% (25560230/30000000 success matches)\n",
      "Checking progress...\n",
      "Progress: 5% (30698922/36000000 success matches)\n"
     ]
    }
   ],
   "source": [
    "# === USER INPUT ===\n",
    "fastq_r1 = \"/shared/space2/molina/Data/mESCs_2iLIF/SRR13790993/fastqs/SRR13790993_S1_R1_001.fastq\"\n",
    "fastq_r2 = \"/shared/space2/molina/Data/mESCs_2iLIF/SRR13790993/fastqs/SRR13790993_S1_R2_001.fastq\"\n",
    "barcode_theta_file = \"barcode_theta_map.tsv\"  # two columns: barcode \\t theta_bin (e.g. 0.34)\n",
    "output_dir = \"/shared/space2/molina/suttyg/theta_binned_fastqs\"\n",
    "# ===================\n",
    "\n",
    "# Load barcode-to-theta-bin mapping\n",
    "df = pd.read_csv(barcode_theta_file, sep=\"\\t\")\n",
    "barcode_to_bin = dict(zip(df['barcode'], df['theta_bin'].astype(str)))\n",
    "\n",
    "# Ensure output directory exists\n",
    "os.makedirs(output_dir, exist_ok=True)\n",
    "\n",
    "# Create writers per bin on demand\n",
    "r1_writers = {}\n",
    "r2_writers = {}\n",
    "\n",
    "def get_writer(bin_label, read_type):\n",
    "    file_path = os.path.join(output_dir, f\"theta_{bin_label}_{read_type}.fastq\")\n",
    "    return open(file_path, \"a\")\n",
    "\n",
    "# Helper to extract barcode from read header\n",
    "def extract_barcode(read_sequence_line):\n",
    "    # Assume first 16 bp of R1 is the barcode\n",
    "    return read_sequence_line[:16].replace(\"N\", \"\")  # Strip Ns if present\n",
    "\n",
    "# Preprocess barcode_to_bin into:\n",
    "exact_map = {}\n",
    "suffix_map = defaultdict(list)\n",
    "prefix_map = defaultdict(list)\n",
    "\n",
    "for key, val in barcode_to_bin.items():\n",
    "    exact_map[key] = val\n",
    "    if len(key) > 5:\n",
    "        suffix_map[key[-16:]].append(val)\n",
    "        prefix_map[key[:16]].append(val)\n",
    "\n",
    "def match_theta_bin(barcode):\n",
    "    if barcode in exact_map:\n",
    "        return exact_map[barcode]\n",
    "    if barcode in suffix_map and len(suffix_map[barcode]) == 1:\n",
    "        return suffix_map[barcode][0]\n",
    "    if barcode in prefix_map and len(prefix_map[barcode]) == 1:\n",
    "        return prefix_map[barcode][0]\n",
    "    return None\n",
    "\n",
    "\n",
    "# Get file size in bytes\n",
    "total_size = os.path.getsize(fastq_r1)\n",
    "\n",
    "count = 0\n",
    "success = 0\n",
    "last_percent = -1\n",
    "\n",
    "# Main loop\n",
    "with open(fastq_r1, \"r\") as r1, open(fastq_r2, \"r\") as r2:\n",
    "    while True:\n",
    "        r1_entry = [r1.readline() for _ in range(4)]\n",
    "        r2_entry = [r2.readline() for _ in range(4)]\n",
    "\n",
    "        if not r1_entry[0] or not r2_entry[0]:\n",
    "            break  # End of file\n",
    "        \n",
    "        if (count % 6000000 == 0):\n",
    "            print(\"Checking progress...\")\n",
    "            current_pos = r1.tell()\n",
    "            percent = int((current_pos / total_size) * 100)\n",
    "            if percent != last_percent:\n",
    "                print(f\"Progress: {percent}% ({success}/{count} success matches)\")\n",
    "                last_percent = percent\n",
    "\n",
    "        barcode = extract_barcode(r1_entry[1].strip())  # Use sequence line, not header\n",
    "\n",
    "        theta_bin = match_theta_bin(barcode)\n",
    "        if theta_bin:\n",
    "            success += 1\n",
    "            if theta_bin not in r1_writers:\n",
    "                #Create a file for new theta\n",
    "                r1_writers[theta_bin] = get_writer(theta_bin, \"R1\")\n",
    "                r2_writers[theta_bin] = get_writer(theta_bin, \"R2\")\n",
    "            #Add lines in existing file\n",
    "            r1_writers[theta_bin].writelines(r1_entry)\n",
    "            r2_writers[theta_bin].writelines(r2_entry)\n",
    "        #else:\n",
    "        #    print(\"Error\", barcode)\n",
    "        count += 1\n",
    " \n",
    "# Close files\n",
    "for writer in r1_writers.values():\n",
    "    writer.close()\n",
    "for writer in r2_writers.values():\n",
    "    writer.close()\n",
    "\n",
    "print(\"✅ FASTQ splitting by theta bin completed.\")"
   ]
  },
  {
   "cell_type": "code",
   "execution_count": 5,
   "id": "f7cdf8db-037f-4c78-9a1c-4bddb3e86be6",
   "metadata": {},
   "outputs": [
    {
     "name": "stdout",
     "output_type": "stream",
     "text": [
      "✅ Compression complete.\n",
      "✅ Compression complete.\n",
      "✅ Compression complete.\n",
      "✅ Compression complete.\n",
      "✅ Compression complete.\n",
      "✅ Compression complete.\n",
      "✅ Compression complete.\n",
      "✅ Compression complete.\n",
      "✅ Compression complete.\n"
     ]
    },
    {
     "ename": "KeyboardInterrupt",
     "evalue": "",
     "output_type": "error",
     "traceback": [
      "\u001b[31m---------------------------------------------------------------------------\u001b[39m",
      "\u001b[31mKeyboardInterrupt\u001b[39m                         Traceback (most recent call last)",
      "\u001b[36mCell\u001b[39m\u001b[36m \u001b[39m\u001b[32mIn[5]\u001b[39m\u001b[32m, line 15\u001b[39m\n\u001b[32m     13\u001b[39m \u001b[38;5;28;01mwith\u001b[39;00m \u001b[38;5;28mopen\u001b[39m(input_fastq, \u001b[33m'\u001b[39m\u001b[33mrb\u001b[39m\u001b[33m'\u001b[39m) \u001b[38;5;28;01mas\u001b[39;00m f_in:\n\u001b[32m     14\u001b[39m     \u001b[38;5;28;01mwith\u001b[39;00m gzip.open(output_fastq_gz, \u001b[33m'\u001b[39m\u001b[33mwb\u001b[39m\u001b[33m'\u001b[39m) \u001b[38;5;28;01mas\u001b[39;00m f_out:\n\u001b[32m---> \u001b[39m\u001b[32m15\u001b[39m         \u001b[43mshutil\u001b[49m\u001b[43m.\u001b[49m\u001b[43mcopyfileobj\u001b[49m\u001b[43m(\u001b[49m\u001b[43mf_in\u001b[49m\u001b[43m,\u001b[49m\u001b[43m \u001b[49m\u001b[43mf_out\u001b[49m\u001b[43m)\u001b[49m\n\u001b[32m     17\u001b[39m \u001b[38;5;28mprint\u001b[39m(\u001b[33m\"\u001b[39m\u001b[33m✅ Compression complete.\u001b[39m\u001b[33m\"\u001b[39m)\n",
      "\u001b[36mFile \u001b[39m\u001b[32m~/.conda/envs/main_3_12_9/lib/python3.12/shutil.py:204\u001b[39m, in \u001b[36mcopyfileobj\u001b[39m\u001b[34m(fsrc, fdst, length)\u001b[39m\n\u001b[32m    202\u001b[39m fdst_write = fdst.write\n\u001b[32m    203\u001b[39m \u001b[38;5;28;01mwhile\u001b[39;00m buf := fsrc_read(length):\n\u001b[32m--> \u001b[39m\u001b[32m204\u001b[39m     \u001b[43mfdst_write\u001b[49m\u001b[43m(\u001b[49m\u001b[43mbuf\u001b[49m\u001b[43m)\u001b[49m\n",
      "\u001b[36mFile \u001b[39m\u001b[32m~/.conda/envs/main_3_12_9/lib/python3.12/gzip.py:300\u001b[39m, in \u001b[36mGzipFile.write\u001b[39m\u001b[34m(self, data)\u001b[39m\n\u001b[32m    297\u001b[39m \u001b[38;5;28;01mif\u001b[39;00m \u001b[38;5;28mself\u001b[39m.fileobj \u001b[38;5;129;01mis\u001b[39;00m \u001b[38;5;28;01mNone\u001b[39;00m:\n\u001b[32m    298\u001b[39m     \u001b[38;5;28;01mraise\u001b[39;00m \u001b[38;5;167;01mValueError\u001b[39;00m(\u001b[33m\"\u001b[39m\u001b[33mwrite() on closed GzipFile object\u001b[39m\u001b[33m\"\u001b[39m)\n\u001b[32m--> \u001b[39m\u001b[32m300\u001b[39m \u001b[38;5;28;01mreturn\u001b[39;00m \u001b[38;5;28;43mself\u001b[39;49m\u001b[43m.\u001b[49m\u001b[43m_buffer\u001b[49m\u001b[43m.\u001b[49m\u001b[43mwrite\u001b[49m\u001b[43m(\u001b[49m\u001b[43mdata\u001b[49m\u001b[43m)\u001b[49m\n",
      "\u001b[36mFile \u001b[39m\u001b[32m~/.conda/envs/main_3_12_9/lib/python3.12/gzip.py:130\u001b[39m, in \u001b[36m_WriteBufferStream.write\u001b[39m\u001b[34m(self, data)\u001b[39m\n\u001b[32m    129\u001b[39m \u001b[38;5;28;01mdef\u001b[39;00m\u001b[38;5;250m \u001b[39m\u001b[34mwrite\u001b[39m(\u001b[38;5;28mself\u001b[39m, data):\n\u001b[32m--> \u001b[39m\u001b[32m130\u001b[39m     \u001b[38;5;28;01mreturn\u001b[39;00m \u001b[38;5;28;43mself\u001b[39;49m\u001b[43m.\u001b[49m\u001b[43mgzip_file\u001b[49m\u001b[43m.\u001b[49m\u001b[43m_write_raw\u001b[49m\u001b[43m(\u001b[49m\u001b[43mdata\u001b[49m\u001b[43m)\u001b[49m\n",
      "\u001b[36mFile \u001b[39m\u001b[32m~/.conda/envs/main_3_12_9/lib/python3.12/gzip.py:312\u001b[39m, in \u001b[36mGzipFile._write_raw\u001b[39m\u001b[34m(self, data)\u001b[39m\n\u001b[32m    309\u001b[39m     length = data.nbytes\n\u001b[32m    311\u001b[39m \u001b[38;5;28;01mif\u001b[39;00m length > \u001b[32m0\u001b[39m:\n\u001b[32m--> \u001b[39m\u001b[32m312\u001b[39m     \u001b[38;5;28mself\u001b[39m.fileobj.write(\u001b[38;5;28;43mself\u001b[39;49m\u001b[43m.\u001b[49m\u001b[43mcompress\u001b[49m\u001b[43m.\u001b[49m\u001b[43mcompress\u001b[49m\u001b[43m(\u001b[49m\u001b[43mdata\u001b[49m\u001b[43m)\u001b[49m)\n\u001b[32m    313\u001b[39m     \u001b[38;5;28mself\u001b[39m.size += length\n\u001b[32m    314\u001b[39m     \u001b[38;5;28mself\u001b[39m.crc = zlib.crc32(data, \u001b[38;5;28mself\u001b[39m.crc)\n",
      "\u001b[31mKeyboardInterrupt\u001b[39m: "
     ]
    }
   ],
   "source": [
    "import gzip\n",
    "import shutil\n",
    "\n",
    "theta_smooth = np.round(np.linspace(0.06, 1.00, 95), 2)  # 100 bins from 0.01 to 1.00\n",
    "\n",
    "for theta in theta_smooth:\n",
    "    for pair_end in [\"R1\", \"R2\"]:\n",
    "        # Input and output paths\n",
    "        input_fastq = \"/shared/space2/molina/suttyg/theta_binned_fastqs/theta_\"+str(theta)+\"_\"+pair_end+\".fastq\"\n",
    "        output_fastq_gz = \"/shared/space2/molina/suttyg/theta_binned_fastqs_gz/theta_\"+str(theta)+\"_\"+pair_end+\".fastq.gz\"\n",
    "\n",
    "        # Compress FASTQ file\n",
    "        with open(input_fastq, 'rb') as f_in:\n",
    "            with gzip.open(output_fastq_gz, 'wb') as f_out:\n",
    "                shutil.copyfileobj(f_in, f_out)\n",
    "\n",
    "        print(\"✅ Compression complete.\")"
   ]
  },
  {
   "cell_type": "code",
   "execution_count": 5,
   "id": "ef40469f-6569-43c9-b945-f5e6c6fe46e4",
   "metadata": {},
   "outputs": [],
   "source": [
    "#Renommer avec le bon format\n",
    "theta_smooth = np.round(np.linspace(0.01, 1.00, 100), 2)  # 100 bins from 0.01 to 1.00\n",
    "\n",
    "for theta in theta_smooth:\n",
    "    for pair_end in [\"R1\", \"R2\"]:\n",
    "        # Input and output paths\n",
    "        old_name = \"/shared/space2/molina/suttyg/theta_binned_fastqs_gz/theta_\"+str(theta)+\"_\"+pair_end+\".fastq.gz\"\n",
    "        new_name = \"/shared/space2/molina/suttyg/theta_binned_fastqs_gz/sample\"+str(int(theta*100))+\"_\"+pair_end+\".fastq\"\n",
    "\n",
    "        os.rename(old_name, new_name)"
   ]
  }
 ],
 "metadata": {
  "kernelspec": {
   "display_name": "Main 3.12.9",
   "language": "python",
   "name": "main_3_12_9"
  },
  "language_info": {
   "codemirror_mode": {
    "name": "ipython",
    "version": 3
   },
   "file_extension": ".py",
   "mimetype": "text/x-python",
   "name": "python",
   "nbconvert_exporter": "python",
   "pygments_lexer": "ipython3",
   "version": "3.12.9"
  }
 },
 "nbformat": 4,
 "nbformat_minor": 5
}
