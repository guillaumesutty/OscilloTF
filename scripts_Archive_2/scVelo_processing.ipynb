{
 "cells": [
  {
   "cell_type": "code",
   "execution_count": null,
   "id": "4640afa8-3d6a-4164-8cec-dc3d1a238f7a",
   "metadata": {},
   "outputs": [],
   "source": [
    "import scvelo as scv\n",
    "import scanpy as sc\n",
    "\n",
    "# 1. Load the dataset\n",
    "adata = scv.read('your_data.h5ad')\n",
    "\n",
    "# 2. Inspect layers\n",
    "print(adata.layers.keys())\n",
    "# Should show: ['spliced', 'unspliced']\n",
    "\n",
    "# 3. Preprocess\n",
    "scv.pp.filter_and_normalize(adata, min_shared_counts=30, n_top_genes=2000)\n",
    "scv.pp.moments(adata, n_pcs=30, n_neighbors=30)\n",
    "\n",
    "# 4. Compute velocities\n",
    "scv.tl.velocity(adata, mode='stochastic')  # or 'deterministic' or 'dynamical'\n",
    "scv.tl.velocity_graph(adata)\n",
    "\n",
    "# 5. Project velocity onto UMAP\n",
    "scv.pl.velocity_embedding_stream(adata, basis='umap', color='clusters')\n",
    "\n",
    "# Alternative visualizations:\n",
    "# scv.pl.velocity_embedding(adata, basis='umap', arrow_size=2)\n",
    "# scv.pl.velocity_graph(adata, threshold=0.1)\n"
   ]
  }
 ],
 "metadata": {
  "kernelspec": {
   "display_name": "Main 3.12.9",
   "language": "python",
   "name": "main_3_12_9"
  },
  "language_info": {
   "codemirror_mode": {
    "name": "ipython",
    "version": 3
   },
   "file_extension": ".py",
   "mimetype": "text/x-python",
   "name": "python",
   "nbconvert_exporter": "python",
   "pygments_lexer": "ipython3",
   "version": "3.12.9"
  }
 },
 "nbformat": 4,
 "nbformat_minor": 5
}
